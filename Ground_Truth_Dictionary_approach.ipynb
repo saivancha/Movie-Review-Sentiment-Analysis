{
 "cells": [
  {
   "cell_type": "markdown",
   "metadata": {},
   "source": [
    "# Downloading libraries"
   ]
  },
  {
   "cell_type": "code",
   "execution_count": 1,
   "metadata": {
    "collapsed": true
   },
   "outputs": [],
   "source": [
    "import re\n",
    "import nltk\n",
    "import pandas as pd\n",
    "from collections import Counter\n",
    "from nltk.tokenize import word_tokenize\n",
    "from __future__ import division\n",
    "from sklearn.metrics import recall_score, precision_score, accuracy_score"
   ]
  },
  {
   "cell_type": "markdown",
   "metadata": {},
   "source": [
    "# Read the data set \n",
    "This data set is pre-processed only for adjectives in each review"
   ]
  },
  {
   "cell_type": "code",
   "execution_count": 2,
   "metadata": {
    "collapsed": false
   },
   "outputs": [],
   "source": [
    "A = pd.read_csv('Movie.csv')"
   ]
  },
  {
   "cell_type": "code",
   "execution_count": 3,
   "metadata": {
    "collapsed": true
   },
   "outputs": [],
   "source": [
    "s = list(A['class'])"
   ]
  },
  {
   "cell_type": "code",
   "execution_count": 4,
   "metadata": {
    "collapsed": false
   },
   "outputs": [],
   "source": [
    "Q = list(A['text'])"
   ]
  },
  {
   "cell_type": "markdown",
   "metadata": {},
   "source": [
    "# Removing single letters and numerics from the reviews"
   ]
  },
  {
   "cell_type": "code",
   "execution_count": 5,
   "metadata": {
    "collapsed": false
   },
   "outputs": [],
   "source": [
    "#Removal Single/double letters\n",
    "\n",
    "B = []\n",
    "for i in range(len(Q)):\n",
    "    p = ' '.join( [f for f in Q[i].split() if len(f)>2] )\n",
    "    B.append(p)"
   ]
  },
  {
   "cell_type": "code",
   "execution_count": 6,
   "metadata": {
    "collapsed": true
   },
   "outputs": [],
   "source": [
    "#Remove all special characters, punctuation and spaces from string\n",
    "\n",
    "Z = []\n",
    "for i in range(len(B)):\n",
    "    q = ' '.join(e for e in B[i].split() if e.isalnum())\n",
    "    Z.append(q)"
   ]
  },
  {
   "cell_type": "code",
   "execution_count": 7,
   "metadata": {
    "collapsed": true
   },
   "outputs": [],
   "source": [
    "#Removing Numbers\n",
    "\n",
    "w1 = []\n",
    "for i in range(len(Z)):\n",
    "    ss = ' '.join([i for i in Z[i].split() if not i.isdigit()])\n",
    "    w1.append(ss)"
   ]
  },
  {
   "cell_type": "code",
   "execution_count": 8,
   "metadata": {
    "collapsed": false
   },
   "outputs": [
    {
     "data": {
      "text/plain": [
       "3540"
      ]
     },
     "execution_count": 8,
     "metadata": {},
     "output_type": "execute_result"
    }
   ],
   "source": [
    "len(w1[0])"
   ]
  },
  {
   "cell_type": "markdown",
   "metadata": {},
   "source": [
    "# Snippet to tag the parts of speech for each review"
   ]
  },
  {
   "cell_type": "code",
   "execution_count": 9,
   "metadata": {
    "collapsed": false
   },
   "outputs": [],
   "source": [
    "p1 = []\n",
    "for r in w1:\n",
    "    tokenized = nltk.word_tokenize(r)\n",
    "    tagged = nltk.pos_tag(tokenized)\n",
    "    p1.append(tagged)"
   ]
  },
  {
   "cell_type": "markdown",
   "metadata": {},
   "source": [
    "# Narrow down each review with only adjectives and verb forms"
   ]
  },
  {
   "cell_type": "code",
   "execution_count": 10,
   "metadata": {
    "collapsed": true
   },
   "outputs": [],
   "source": [
    "q = []\n",
    "allowed=[\"JJ\",\"VBN\", \"VBD\", \"VB\", \"VBG\", \"RB\"]\n",
    "for i in range(len(p1)):\n",
    "    d = ' '.join([w[0] for w in p1[i] if w[1] in allowed])\n",
    "    q.append(d)"
   ]
  },
  {
   "cell_type": "code",
   "execution_count": 15,
   "metadata": {
    "collapsed": false
   },
   "outputs": [],
   "source": [
    "G = pd.DataFrame(q) "
   ]
  },
  {
   "cell_type": "code",
   "execution_count": 16,
   "metadata": {
    "collapsed": false
   },
   "outputs": [],
   "source": [
    "G.to_csv(\"middle_check.csv\", sep=',', encoding='utf-8')"
   ]
  },
  {
   "cell_type": "code",
   "execution_count": 17,
   "metadata": {
    "collapsed": true
   },
   "outputs": [],
   "source": [
    "GG = q #Reviews with adjectives and all verb forms"
   ]
  },
  {
   "cell_type": "markdown",
   "metadata": {},
   "source": [
    "# Making a list of tuples which has review and its respective class"
   ]
  },
  {
   "cell_type": "code",
   "execution_count": 18,
   "metadata": {
    "collapsed": true
   },
   "outputs": [],
   "source": [
    "u = []\n",
    "for i in range(2000):\n",
    "    p = (s[i],q[i])\n",
    "    u.append(p)"
   ]
  },
  {
   "cell_type": "markdown",
   "metadata": {},
   "source": [
    "# Seperating the data set by each class i.e. \"Pos\", \"Neg\", \"Neutral\""
   ]
  },
  {
   "cell_type": "code",
   "execution_count": 19,
   "metadata": {
    "collapsed": true
   },
   "outputs": [],
   "source": [
    "a = []\n",
    "b = []\n",
    "c = []\n",
    "allowed=[\"pos\",\"neg\",\"neutral\"]\n",
    "for w in u:\n",
    "    if w[0] in allowed[0]:\n",
    "        a.append(w[1])\n",
    "    elif w[0] in allowed[1]:\n",
    "        b.append(w[1])\n",
    "    elif w[0] in allowed[2]:\n",
    "        c.append(w[1])"
   ]
  },
  {
   "cell_type": "markdown",
   "metadata": {},
   "source": [
    "# Merge the reviews in each class in to three single lists\n",
    "\n",
    "The idea is to extract combined information for each class independently"
   ]
  },
  {
   "cell_type": "code",
   "execution_count": 20,
   "metadata": {
    "collapsed": true
   },
   "outputs": [],
   "source": [
    "M = [' '.join(w for w in a)]\n",
    "N = [' '.join(w for w in b)]\n",
    "O = [' '.join(w for w in c)]"
   ]
  },
  {
   "cell_type": "code",
   "execution_count": 52,
   "metadata": {
    "collapsed": false
   },
   "outputs": [
    {
     "data": {
      "text/plain": [
       "1"
      ]
     },
     "execution_count": 52,
     "metadata": {},
     "output_type": "execute_result"
    }
   ],
   "source": [
    "len(M)"
   ]
  },
  {
   "cell_type": "markdown",
   "metadata": {},
   "source": [
    "# Splitting the words in each list to get the word frequencies"
   ]
  },
  {
   "cell_type": "code",
   "execution_count": 21,
   "metadata": {
    "collapsed": true
   },
   "outputs": [],
   "source": [
    "pos_list = M[0].split()\n",
    "neg_list = N[0].split()\n",
    "neu_list = O[0].split()"
   ]
  },
  {
   "cell_type": "code",
   "execution_count": 22,
   "metadata": {
    "collapsed": false
   },
   "outputs": [
    {
     "name": "stdout",
     "output_type": "stream",
     "text": [
      "Word count in positive class: 116939 , Word count in negative class: 130957 and Word count in neutral class: 64001\n"
     ]
    }
   ],
   "source": [
    "print (\"Word count in positive class: {} , Word count in negative class: {} and Word count in neutral class: {}\" .format(len(pos_list), len(neg_list), len(neu_list)))"
   ]
  },
  {
   "cell_type": "markdown",
   "metadata": {},
   "source": [
    "# Finding the frequencies of the unique words in each class"
   ]
  },
  {
   "cell_type": "code",
   "execution_count": 23,
   "metadata": {
    "collapsed": true
   },
   "outputs": [],
   "source": [
    "counts_pos = Counter(pos_list)\n",
    "counts_neg = Counter(neg_list)\n",
    "counts_neu = Counter(neu_list)"
   ]
  },
  {
   "cell_type": "code",
   "execution_count": 24,
   "metadata": {
    "collapsed": true
   },
   "outputs": [],
   "source": [
    "pos_freq_list = list(counts_pos.items())\n",
    "neg_freq_list = list(counts_neg.items())\n",
    "neu_freq_list = list(counts_neu.items())"
   ]
  },
  {
   "cell_type": "code",
   "execution_count": 25,
   "metadata": {
    "collapsed": false
   },
   "outputs": [
    {
     "name": "stdout",
     "output_type": "stream",
     "text": [
      "Total unique words in positive class: 12955 , Total unique words in negative class: 13547 and Total unique words in neutral class: 10710\n"
     ]
    }
   ],
   "source": [
    "print (\"Total unique words in positive class: {} , Total unique words in negative class: {} and Total unique words in neutral class: {}\" .format(len(pos_freq_list), len(neg_freq_list), len(neu_freq_list)))"
   ]
  },
  {
   "cell_type": "markdown",
   "metadata": {},
   "source": [
    "# Snippet to set the dictionary size"
   ]
  },
  {
   "cell_type": "code",
   "execution_count": 26,
   "metadata": {
    "collapsed": true
   },
   "outputs": [],
   "source": [
    "pos_dict = []\n",
    "for w in pos_freq_list:\n",
    "    if w[1]>0:\n",
    "        pos_dict.append(w[0])\n",
    "neg_dict = []\n",
    "for f in neg_freq_list:\n",
    "    if f[1]>0:\n",
    "        neg_dict.append(f[0])\n",
    "neu_dict = []\n",
    "for x in neu_freq_list:\n",
    "    if x[1]>0:\n",
    "        neu_dict.append(x[0])\n",
    "        \n",
    "### In this case we've have included all the unique words in the dictionary"
   ]
  },
  {
   "cell_type": "code",
   "execution_count": 27,
   "metadata": {
    "collapsed": false
   },
   "outputs": [
    {
     "name": "stdout",
     "output_type": "stream",
     "text": [
      "Dictionary size of positive class: 12955 , Dictionary size of negative class: 13547 and Dictionary size of neutral class: 10710\n"
     ]
    }
   ],
   "source": [
    "print (\"Dictionary size of positive class: {} , Dictionary size of negative class: {} and Dictionary size of neutral class: {}\" .format(len(pos_dict), len(neg_dict), len(neu_dict)))"
   ]
  },
  {
   "cell_type": "markdown",
   "metadata": {},
   "source": [
    "# Identifying the similar words for each class in each review "
   ]
  },
  {
   "cell_type": "code",
   "execution_count": 28,
   "metadata": {
    "collapsed": false
   },
   "outputs": [],
   "source": [
    "I = []\n",
    "aa = 0\n",
    "for i in range(2000):\n",
    "    pos_match = []\n",
    "    for w in GG[i].split():\n",
    "        if w in pos_dict:\n",
    "            pos_match.append(w)\n",
    "            aa = len(pos_match)\n",
    "    I.append(aa)\n",
    "\n",
    "# I has the list of positive words in each review "
   ]
  },
  {
   "cell_type": "code",
   "execution_count": 29,
   "metadata": {
    "collapsed": true
   },
   "outputs": [],
   "source": [
    "J = []\n",
    "bb = 0\n",
    "for i in range(2000):\n",
    "    neg_match = []  \n",
    "    for w in GG[i].split():\n",
    "        if w in neg_dict:\n",
    "            neg_match.append(w)\n",
    "            bb = len(neg_match)\n",
    "    J.append(bb)\n",
    "# J has the list of negative words in each review "
   ]
  },
  {
   "cell_type": "code",
   "execution_count": 30,
   "metadata": {
    "collapsed": true
   },
   "outputs": [],
   "source": [
    "K = []\n",
    "cc = 0\n",
    "for i in range(2000):\n",
    "    neu_match = []   \n",
    "    for w in GG[i].split():\n",
    "        if w in neu_dict:\n",
    "            neu_match.append(w)\n",
    "            cc = len(neu_match)\n",
    "    K.append(cc)\n",
    "# K has the list of neutral words in each review "
   ]
  },
  {
   "cell_type": "markdown",
   "metadata": {},
   "source": [
    "# Calculating the weights of positive, negative and neutral words in each review"
   ]
  },
  {
   "cell_type": "code",
   "execution_count": 32,
   "metadata": {
    "collapsed": false
   },
   "outputs": [],
   "source": [
    "PW = []\n",
    "NGW = []\n",
    "NUW = []\n",
    "for w in range(2000):\n",
    "    pos_wt = 0\n",
    "    neg_wt = 0\n",
    "    neu_wt = 0\n",
    "    z = 0\n",
    "    z = len(GG[w].split())\n",
    "    pos_wt = I[w]/z\n",
    "    neg_wt = J[w]/z\n",
    "    neu_wt = K[w]/z\n",
    "    PW.append(pos_wt)\n",
    "    NGW.append(neg_wt)\n",
    "    NUW.append(neu_wt)"
   ]
  },
  {
   "cell_type": "code",
   "execution_count": 33,
   "metadata": {
    "collapsed": true
   },
   "outputs": [],
   "source": [
    "PW_1 = []\n",
    "NGW_1 = []\n",
    "NUW_1 = []\n",
    "for i in range(2000):\n",
    "    x_pw = PW[i]\n",
    "    y_ngw = NGW[i]\n",
    "    z_nuw = NUW[i]\n",
    "    g = float(\"{0:.2f}\".format(x_pw))\n",
    "    PW_1.append(g)\n",
    "    h = float(\"{0:.2f}\".format(y_ngw))\n",
    "    NGW_1.append(h)\n",
    "    i = float(\"{0:.2f}\".format(z_nuw))\n",
    "    NUW_1.append(i)"
   ]
  },
  {
   "cell_type": "code",
   "execution_count": 34,
   "metadata": {
    "collapsed": false
   },
   "outputs": [
    {
     "name": "stdout",
     "output_type": "stream",
     "text": [
      "0.88\n"
     ]
    }
   ],
   "source": [
    "print PW_1[1999]"
   ]
  },
  {
   "cell_type": "markdown",
   "metadata": {},
   "source": [
    "# Creating a data frame with respective weigths"
   ]
  },
  {
   "cell_type": "code",
   "execution_count": 35,
   "metadata": {
    "collapsed": true
   },
   "outputs": [],
   "source": [
    "UL = pd.DataFrame()"
   ]
  },
  {
   "cell_type": "code",
   "execution_count": 36,
   "metadata": {
    "collapsed": true
   },
   "outputs": [],
   "source": [
    "UL['POS']= PW_1"
   ]
  },
  {
   "cell_type": "code",
   "execution_count": 37,
   "metadata": {
    "collapsed": true
   },
   "outputs": [],
   "source": [
    "UL['NEG']= NGW_1"
   ]
  },
  {
   "cell_type": "code",
   "execution_count": 38,
   "metadata": {
    "collapsed": true
   },
   "outputs": [],
   "source": [
    "UL['NEU']= NUW_1"
   ]
  },
  {
   "cell_type": "code",
   "execution_count": 39,
   "metadata": {
    "collapsed": true
   },
   "outputs": [],
   "source": [
    "UL['truth']=A['class']"
   ]
  },
  {
   "cell_type": "code",
   "execution_count": 40,
   "metadata": {
    "collapsed": false
   },
   "outputs": [],
   "source": [
    "UL['PRE'] = A['text']"
   ]
  },
  {
   "cell_type": "code",
   "execution_count": 41,
   "metadata": {
    "collapsed": false,
    "scrolled": true
   },
   "outputs": [
    {
     "data": {
      "text/html": [
       "<div>\n",
       "<table border=\"1\" class=\"dataframe\">\n",
       "  <thead>\n",
       "    <tr style=\"text-align: right;\">\n",
       "      <th></th>\n",
       "      <th>POS</th>\n",
       "      <th>NEG</th>\n",
       "      <th>NEU</th>\n",
       "      <th>truth</th>\n",
       "      <th>PRE</th>\n",
       "    </tr>\n",
       "  </thead>\n",
       "  <tbody>\n",
       "    <tr>\n",
       "      <th>0</th>\n",
       "      <td>1.00</td>\n",
       "      <td>0.93</td>\n",
       "      <td>0.89</td>\n",
       "      <td>pos</td>\n",
       "      <td>films adapted from comic books have had plent...</td>\n",
       "    </tr>\n",
       "    <tr>\n",
       "      <th>1</th>\n",
       "      <td>1.00</td>\n",
       "      <td>0.95</td>\n",
       "      <td>0.95</td>\n",
       "      <td>pos</td>\n",
       "      <td>every now and then a movie comes along from a...</td>\n",
       "    </tr>\n",
       "    <tr>\n",
       "      <th>2</th>\n",
       "      <td>1.00</td>\n",
       "      <td>0.96</td>\n",
       "      <td>0.98</td>\n",
       "      <td>pos</td>\n",
       "      <td>you ve got mail works alot better than it des...</td>\n",
       "    </tr>\n",
       "    <tr>\n",
       "      <th>3</th>\n",
       "      <td>0.91</td>\n",
       "      <td>0.94</td>\n",
       "      <td>1.00</td>\n",
       "      <td>neutral</td>\n",
       "      <td>jaws   is a rare film that grabs your atte...</td>\n",
       "    </tr>\n",
       "    <tr>\n",
       "      <th>4</th>\n",
       "      <td>0.95</td>\n",
       "      <td>1.00</td>\n",
       "      <td>0.94</td>\n",
       "      <td>neg</td>\n",
       "      <td>moviemaking is a lot like being the general m...</td>\n",
       "    </tr>\n",
       "  </tbody>\n",
       "</table>\n",
       "</div>"
      ],
      "text/plain": [
       "    POS   NEG   NEU    truth  \\\n",
       "0  1.00  0.93  0.89      pos   \n",
       "1  1.00  0.95  0.95      pos   \n",
       "2  1.00  0.96  0.98      pos   \n",
       "3  0.91  0.94  1.00  neutral   \n",
       "4  0.95  1.00  0.94      neg   \n",
       "\n",
       "                                                 PRE  \n",
       "0   films adapted from comic books have had plent...  \n",
       "1   every now and then a movie comes along from a...  \n",
       "2   you ve got mail works alot better than it des...  \n",
       "3      jaws   is a rare film that grabs your atte...  \n",
       "4   moviemaking is a lot like being the general m...  "
      ]
     },
     "execution_count": 41,
     "metadata": {},
     "output_type": "execute_result"
    }
   ],
   "source": [
    "UL.head(5)"
   ]
  },
  {
   "cell_type": "markdown",
   "metadata": {},
   "source": [
    "# Predicting the class based the weights."
   ]
  },
  {
   "cell_type": "code",
   "execution_count": 42,
   "metadata": {
    "collapsed": false
   },
   "outputs": [
    {
     "name": "stderr",
     "output_type": "stream",
     "text": [
      "C:\\Users\\Praveen\\Anaconda2\\lib\\site-packages\\ipykernel\\__main__.py:3: SettingWithCopyWarning: \n",
      "A value is trying to be set on a copy of a slice from a DataFrame\n",
      "\n",
      "See the caveats in the documentation: http://pandas.pydata.org/pandas-docs/stable/indexing.html#indexing-view-versus-copy\n",
      "  app.launch_new_instance()\n",
      "C:\\Users\\Praveen\\Anaconda2\\lib\\site-packages\\ipykernel\\__main__.py:7: SettingWithCopyWarning: \n",
      "A value is trying to be set on a copy of a slice from a DataFrame\n",
      "\n",
      "See the caveats in the documentation: http://pandas.pydata.org/pandas-docs/stable/indexing.html#indexing-view-versus-copy\n",
      "C:\\Users\\Praveen\\Anaconda2\\lib\\site-packages\\ipykernel\\__main__.py:5: SettingWithCopyWarning: \n",
      "A value is trying to be set on a copy of a slice from a DataFrame\n",
      "\n",
      "See the caveats in the documentation: http://pandas.pydata.org/pandas-docs/stable/indexing.html#indexing-view-versus-copy\n"
     ]
    }
   ],
   "source": [
    "for i in range(2000):\n",
    "    if (UL.POS[i]-UL.NEG[i] > 0.03):\n",
    "        UL.PRE[i] = 'pos'\n",
    "    if (UL.POS[i]-UL.NEG[i] < -0.03):\n",
    "        UL.PRE[i] = 'neg'\n",
    "    elif (UL.POS[i]-UL.NEG[i] <= 0.03 and UL.POS[i]-UL.NEG[i] >= -0.03):\n",
    "        UL.PRE[i] = 'neutral'"
   ]
  },
  {
   "cell_type": "code",
   "execution_count": 43,
   "metadata": {
    "collapsed": false
   },
   "outputs": [
    {
     "data": {
      "text/html": [
       "<div>\n",
       "<table border=\"1\" class=\"dataframe\">\n",
       "  <thead>\n",
       "    <tr style=\"text-align: right;\">\n",
       "      <th></th>\n",
       "      <th>POS</th>\n",
       "      <th>NEG</th>\n",
       "      <th>NEU</th>\n",
       "      <th>truth</th>\n",
       "      <th>PRE</th>\n",
       "    </tr>\n",
       "  </thead>\n",
       "  <tbody>\n",
       "    <tr>\n",
       "      <th>0</th>\n",
       "      <td>1.00</td>\n",
       "      <td>0.93</td>\n",
       "      <td>0.89</td>\n",
       "      <td>pos</td>\n",
       "      <td>pos</td>\n",
       "    </tr>\n",
       "    <tr>\n",
       "      <th>1</th>\n",
       "      <td>1.00</td>\n",
       "      <td>0.95</td>\n",
       "      <td>0.95</td>\n",
       "      <td>pos</td>\n",
       "      <td>pos</td>\n",
       "    </tr>\n",
       "    <tr>\n",
       "      <th>2</th>\n",
       "      <td>1.00</td>\n",
       "      <td>0.96</td>\n",
       "      <td>0.98</td>\n",
       "      <td>pos</td>\n",
       "      <td>pos</td>\n",
       "    </tr>\n",
       "    <tr>\n",
       "      <th>3</th>\n",
       "      <td>0.91</td>\n",
       "      <td>0.94</td>\n",
       "      <td>1.00</td>\n",
       "      <td>neutral</td>\n",
       "      <td>neutral</td>\n",
       "    </tr>\n",
       "    <tr>\n",
       "      <th>4</th>\n",
       "      <td>0.95</td>\n",
       "      <td>1.00</td>\n",
       "      <td>0.94</td>\n",
       "      <td>neg</td>\n",
       "      <td>neg</td>\n",
       "    </tr>\n",
       "  </tbody>\n",
       "</table>\n",
       "</div>"
      ],
      "text/plain": [
       "    POS   NEG   NEU    truth      PRE\n",
       "0  1.00  0.93  0.89      pos      pos\n",
       "1  1.00  0.95  0.95      pos      pos\n",
       "2  1.00  0.96  0.98      pos      pos\n",
       "3  0.91  0.94  1.00  neutral  neutral\n",
       "4  0.95  1.00  0.94      neg      neg"
      ]
     },
     "execution_count": 43,
     "metadata": {},
     "output_type": "execute_result"
    }
   ],
   "source": [
    "UL.head(5)"
   ]
  },
  {
   "cell_type": "code",
   "execution_count": 44,
   "metadata": {
    "collapsed": false
   },
   "outputs": [
    {
     "data": {
      "text/html": [
       "<div>\n",
       "<table border=\"1\" class=\"dataframe\">\n",
       "  <thead>\n",
       "    <tr style=\"text-align: right;\">\n",
       "      <th>PRE</th>\n",
       "      <th>neg</th>\n",
       "      <th>neutral</th>\n",
       "      <th>pos</th>\n",
       "    </tr>\n",
       "    <tr>\n",
       "      <th>truth</th>\n",
       "      <th></th>\n",
       "      <th></th>\n",
       "      <th></th>\n",
       "    </tr>\n",
       "  </thead>\n",
       "  <tbody>\n",
       "    <tr>\n",
       "      <th>neg</th>\n",
       "      <td>783</td>\n",
       "      <td>85</td>\n",
       "      <td>0</td>\n",
       "    </tr>\n",
       "    <tr>\n",
       "      <th>neutral</th>\n",
       "      <td>62</td>\n",
       "      <td>332</td>\n",
       "      <td>52</td>\n",
       "    </tr>\n",
       "    <tr>\n",
       "      <th>pos</th>\n",
       "      <td>0</td>\n",
       "      <td>75</td>\n",
       "      <td>611</td>\n",
       "    </tr>\n",
       "  </tbody>\n",
       "</table>\n",
       "</div>"
      ],
      "text/plain": [
       "PRE      neg  neutral  pos\n",
       "truth                     \n",
       "neg      783       85    0\n",
       "neutral   62      332   52\n",
       "pos        0       75  611"
      ]
     },
     "execution_count": 44,
     "metadata": {},
     "output_type": "execute_result"
    }
   ],
   "source": [
    "pd.crosstab(UL.truth,UL.PRE)"
   ]
  },
  {
   "cell_type": "code",
   "execution_count": 45,
   "metadata": {
    "collapsed": false,
    "scrolled": true
   },
   "outputs": [
    {
     "name": "stdout",
     "output_type": "stream",
     "text": [
      "0.863\n"
     ]
    }
   ],
   "source": [
    "print accuracy_score (UL.truth,UL.PRE)"
   ]
  },
  {
   "cell_type": "code",
   "execution_count": 46,
   "metadata": {
    "collapsed": false
   },
   "outputs": [
    {
     "name": "stdout",
     "output_type": "stream",
     "text": [
      "0.863\n"
     ]
    },
    {
     "name": "stderr",
     "output_type": "stream",
     "text": [
      "C:\\Users\\Praveen\\Anaconda2\\lib\\site-packages\\sklearn\\metrics\\classification.py:1023: UserWarning: Note that pos_label (set to 'neg') is ignored when average != 'binary' (got 'micro'). You may use labels=[pos_label] to specify a single positive class.\n",
      "  % (pos_label, average), UserWarning)\n"
     ]
    }
   ],
   "source": [
    "print recall_score(UL.truth,UL.PRE, pos_label= 'neg', average='micro')"
   ]
  },
  {
   "cell_type": "code",
   "execution_count": 46,
   "metadata": {
    "collapsed": false
   },
   "outputs": [],
   "source": [
    "UL.to_csv(\"ultimate.csv\", sep=',', encoding='utf-8')"
   ]
  }
 ],
 "metadata": {
  "anaconda-cloud": {},
  "kernelspec": {
   "display_name": "Python [default]",
   "language": "python",
   "name": "python2"
  },
  "language_info": {
   "codemirror_mode": {
    "name": "ipython",
    "version": 2
   },
   "file_extension": ".py",
   "mimetype": "text/x-python",
   "name": "python",
   "nbconvert_exporter": "python",
   "pygments_lexer": "ipython2",
   "version": "2.7.12"
  }
 },
 "nbformat": 4,
 "nbformat_minor": 2
}
